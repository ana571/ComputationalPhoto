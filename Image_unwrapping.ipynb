{
 "cells": [
  {
   "cell_type": "code",
   "execution_count": 1,
   "id": "40c869f6",
   "metadata": {},
   "outputs": [],
   "source": [
    "import cv2\n",
    "import numpy as np\n"
   ]
  },
  {
   "cell_type": "code",
   "execution_count": 2,
   "id": "7326704e",
   "metadata": {},
   "outputs": [],
   "source": [
    "def unwrap_fisheye(input_image_path, output_image_path):\n",
    "    # Read the fisheye image\n",
    "    fisheye_image = cv2.imread(input_image_path)\n",
    "\n",
    "    # Get image dimensions\n",
    "    height, width = fisheye_image.shape[:2]\n",
    "\n",
    "    # Define the fisheye camera parameters\n",
    "    K = np.array([[500, 0, width // 2],\n",
    "                  [0, 500, height // 2],\n",
    "                  [0, 0, 1]])\n",
    "\n",
    "    # Undistort the fisheye image\n",
    "    undistorted_image = cv2.fisheye.undistortImage(fisheye_image, K, D=None)\n",
    "\n",
    "    # Display the original and undistorted images (optional)\n",
    "    cv2.imshow(\"Original Fisheye Image\", fisheye_image)\n",
    "    cv2.imshow(\"Undistorted Image\", undistorted_image)\n",
    "    cv2.waitKey(0)\n",
    "    cv2.destroyAllWindows()\n",
    "\n",
    "    # Save the undistorted image\n",
    "    cv2.imwrite(output_image_path, undistorted_image)\n",
    "\n"
   ]
  },
  {
   "cell_type": "code",
   "execution_count": 6,
   "id": "c52c8db6",
   "metadata": {},
   "outputs": [
    {
     "ename": "error",
     "evalue": "OpenCV(4.6.0) /private/var/folders/sy/f16zz6x50xz3113nwtb9bvq00000gp/T/abs_5a1v4y7k9y/croot/opencv-suite_1676472757237/work/modules/calib3d/src/fisheye.cpp:474: error: (-215:Assertion failed) (K.depth() == CV_32F || K.depth() == CV_64F) && (D.depth() == CV_32F || D.depth() == CV_64F) in function 'initUndistortRectifyMap'\n",
     "output_type": "error",
     "traceback": [
      "\u001b[0;31m---------------------------------------------------------------------------\u001b[0m",
      "\u001b[0;31merror\u001b[0m                                     Traceback (most recent call last)",
      "Cell \u001b[0;32mIn[6], line 3\u001b[0m\n\u001b[1;32m      1\u001b[0m input_image_path \u001b[38;5;241m=\u001b[39m \u001b[38;5;124m\"\u001b[39m\u001b[38;5;124mImages/unwrapped_walgreens_left.jpeg\u001b[39m\u001b[38;5;124m\"\u001b[39m\n\u001b[1;32m      2\u001b[0m output_image_path \u001b[38;5;241m=\u001b[39m \u001b[38;5;124m\"\u001b[39m\u001b[38;5;124mImages/undistorted_image.jpg\u001b[39m\u001b[38;5;124m\"\u001b[39m\n\u001b[0;32m----> 3\u001b[0m \u001b[43munwrap_fisheye\u001b[49m\u001b[43m(\u001b[49m\u001b[43minput_image_path\u001b[49m\u001b[43m,\u001b[49m\u001b[43m \u001b[49m\u001b[43moutput_image_path\u001b[49m\u001b[43m)\u001b[49m\n",
      "Cell \u001b[0;32mIn[2], line 14\u001b[0m, in \u001b[0;36munwrap_fisheye\u001b[0;34m(input_image_path, output_image_path)\u001b[0m\n\u001b[1;32m      9\u001b[0m K \u001b[38;5;241m=\u001b[39m np\u001b[38;5;241m.\u001b[39marray([[\u001b[38;5;241m500\u001b[39m, \u001b[38;5;241m0\u001b[39m, width \u001b[38;5;241m/\u001b[39m\u001b[38;5;241m/\u001b[39m \u001b[38;5;241m2\u001b[39m],\n\u001b[1;32m     10\u001b[0m               [\u001b[38;5;241m0\u001b[39m, \u001b[38;5;241m500\u001b[39m, height \u001b[38;5;241m/\u001b[39m\u001b[38;5;241m/\u001b[39m \u001b[38;5;241m2\u001b[39m],\n\u001b[1;32m     11\u001b[0m               [\u001b[38;5;241m0\u001b[39m, \u001b[38;5;241m0\u001b[39m, \u001b[38;5;241m1\u001b[39m]])\n\u001b[1;32m     13\u001b[0m \u001b[38;5;66;03m# Undistort the fisheye image\u001b[39;00m\n\u001b[0;32m---> 14\u001b[0m undistorted_image \u001b[38;5;241m=\u001b[39m \u001b[43mcv2\u001b[49m\u001b[38;5;241;43m.\u001b[39;49m\u001b[43mfisheye\u001b[49m\u001b[38;5;241;43m.\u001b[39;49m\u001b[43mundistortImage\u001b[49m\u001b[43m(\u001b[49m\u001b[43mfisheye_image\u001b[49m\u001b[43m,\u001b[49m\u001b[43m \u001b[49m\u001b[43mK\u001b[49m\u001b[43m,\u001b[49m\u001b[43m \u001b[49m\u001b[43mD\u001b[49m\u001b[38;5;241;43m=\u001b[39;49m\u001b[38;5;28;43;01mNone\u001b[39;49;00m\u001b[43m)\u001b[49m\n\u001b[1;32m     16\u001b[0m \u001b[38;5;66;03m# Display the original and undistorted images (optional)\u001b[39;00m\n\u001b[1;32m     17\u001b[0m cv2\u001b[38;5;241m.\u001b[39mimshow(\u001b[38;5;124m\"\u001b[39m\u001b[38;5;124mOriginal Fisheye Image\u001b[39m\u001b[38;5;124m\"\u001b[39m, fisheye_image)\n",
      "\u001b[0;31merror\u001b[0m: OpenCV(4.6.0) /private/var/folders/sy/f16zz6x50xz3113nwtb9bvq00000gp/T/abs_5a1v4y7k9y/croot/opencv-suite_1676472757237/work/modules/calib3d/src/fisheye.cpp:474: error: (-215:Assertion failed) (K.depth() == CV_32F || K.depth() == CV_64F) && (D.depth() == CV_32F || D.depth() == CV_64F) in function 'initUndistortRectifyMap'\n"
     ]
    }
   ],
   "source": [
    "\n",
    "input_image_path = \"Images/unwrapped_walgreens_left.jpeg\"\n",
    "output_image_path = \"Images/undistorted_image.jpg\"\n",
    "unwrap_fisheye(input_image_path, output_image_path)\n"
   ]
  },
  {
   "cell_type": "code",
   "execution_count": null,
   "id": "5e7e8e41",
   "metadata": {},
   "outputs": [],
   "source": []
  }
 ],
 "metadata": {
  "kernelspec": {
   "display_name": "Python 3 (ipykernel)",
   "language": "python",
   "name": "python3"
  },
  "language_info": {
   "codemirror_mode": {
    "name": "ipython",
    "version": 3
   },
   "file_extension": ".py",
   "mimetype": "text/x-python",
   "name": "python",
   "nbconvert_exporter": "python",
   "pygments_lexer": "ipython3",
   "version": "3.8.16"
  }
 },
 "nbformat": 4,
 "nbformat_minor": 5
}
