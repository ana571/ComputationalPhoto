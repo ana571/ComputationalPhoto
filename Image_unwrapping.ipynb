{
 "cells": [
  {
   "cell_type": "code",
   "execution_count": 1,
   "id": "d43b3eb0",
   "metadata": {},
   "outputs": [],
   "source": [
    "import cv2\n",
    "import numpy as np\n",
    "import math\n",
    "from PIL import Image"
   ]
  },
  {
   "cell_type": "code",
   "execution_count": 13,
   "id": "71b3b233",
   "metadata": {},
   "outputs": [],
   "source": [
    "def unwrap_fisheye1(input_image_path, output_image_path):\n",
    "    # Read the fisheye image\n",
    "    fisheye_image = cv2.imread(input_image_path)\n",
    "\n",
    "    # Get image dimensions\n",
    "    height, width = fisheye_image.shape[:2]\n",
    "\n",
    "    # Define the fisheye camera parameters\n",
    "    K = np.array([[500, 0, width // 2],\n",
    "                  [0, 500, height // 2],\n",
    "                  [0, 0, 1]])\n",
    "    K = K.astype(np.float32)\n",
    "\n",
    "    # Create an empty distortion coefficients array\n",
    "    D = np.zeros((4, 1), dtype=np.float32)\n",
    "    fisheye_image = cv2.resize(fisheye_image, (200, 200))\n",
    "\n",
    "    # Undistort the fisheye image\n",
    "    undistorted_image = cv2.fisheye.undistortImage(fisheye_image, K, D)\n",
    "\n",
    "    # Save the undistorted image\n",
    "    cv2.imwrite(output_image_path, undistorted_image)\n",
    "\n"
   ]
  },
  {
   "cell_type": "code",
   "execution_count": 14,
   "id": "9eca6cab",
   "metadata": {},
   "outputs": [],
   "source": [
    "\n",
    "input_image_path = \"Images/unwrapped_walgreens_left.jpeg\"\n",
    "output_image_path = \"Images_undistorted/undistorted_image.jpg\"\n",
    "unwrap_fisheye1(input_image_path, output_image_path)\n"
   ]
  },
  {
   "cell_type": "code",
   "execution_count": 11,
   "id": "87a3578b",
   "metadata": {},
   "outputs": [],
   "source": [
    "def unwrap_fisheye(input_image_path, output_image_path):\n",
    "     # Read the fisheye image\n",
    "    fisheye_image = cv2.imread(input_image_path)\n",
    "\n",
    "    # Get image dimensions\n",
    "    height, width = fisheye_image.shape[:2]\n",
    "    \n",
    "    # define field of view\n",
    "    fov = 190\n",
    "    \n",
    "    # Create a blank image for the unwrapped equirectangular projection\n",
    "    unwrapped_image = np.zeros((height, width, 3), dtype=np.uint8)\n",
    "\n",
    "    \n",
    "    for x in range(width):\n",
    "        for y in range(height):\n",
    "            \n",
    "            # Projection to 3D point, preparation of angles\n",
    "            theta_s = math.radians(fov * x / width - 0.5)\n",
    "            phi_s = math.radians(fov * y / height - 0.5)\n",
    "            \n",
    "            # Point in 3D\n",
    "            x1 = math.cos(phi_s) * math.sin(theta_s)\n",
    "            y1 = math.cos(phi_s) * math.cos(theta_s)\n",
    "            z1 = math.sin(phi_s)\n",
    "            \n",
    "            # Computation of rho, distance from center of projection to point\n",
    "            root = math.sqrt(x1**2 + z1 ** 2)\n",
    "            rho = height / fov * math.atan(root / y1)\n",
    "            theta = math.atan(z1 / x1)\n",
    "            \n",
    "            # Projected point\n",
    "            x2 = int(0.5 * width + rho * math.cos(theta))\n",
    "            y2 = int(0.5 * height + rho * math.sin(theta))\n",
    "            \n",
    "            # Map the pixel value from fisheye image to the unwrapped image\n",
    "            if 0 <= x2 < width and 0 <= y2 < height:\n",
    "                unwrapped_image[y, x] = fisheye_image[int(y2), int(x2)]\n",
    "    \n",
    "    # Save the unwrapped image\n",
    "    cv2.imwrite(output_image_path, unwrapped_image)\n",
    "    "
   ]
  },
  {
   "cell_type": "code",
   "execution_count": 12,
   "id": "ec5ff97a",
   "metadata": {},
   "outputs": [],
   "source": [
    "\n",
    "input_image_path = \"Images/test.jpg\"\n",
    "output_image_path = \"Images_undistorted/test_undistorted.jpg\"\n",
    "unwrap_fisheye(input_image_path, output_image_path)\n"
   ]
  },
  {
   "cell_type": "code",
   "execution_count": null,
   "id": "6049f971",
   "metadata": {},
   "outputs": [],
   "source": []
  }
 ],
 "metadata": {
  "kernelspec": {
   "display_name": "Python 3 (ipykernel)",
   "language": "python",
   "name": "python3"
  },
  "language_info": {
   "codemirror_mode": {
    "name": "ipython",
    "version": 3
   },
   "file_extension": ".py",
   "mimetype": "text/x-python",
   "name": "python",
   "nbconvert_exporter": "python",
   "pygments_lexer": "ipython3",
   "version": "3.8.16"
  }
 },
 "nbformat": 4,
 "nbformat_minor": 5
}
