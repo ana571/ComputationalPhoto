{
 "cells": [
  {
   "cell_type": "code",
   "execution_count": 5,
   "id": "d43b3eb0",
   "metadata": {},
   "outputs": [],
   "source": [
    "import cv2\n",
    "import numpy as np\n"
   ]
  },
  {
   "cell_type": "code",
   "execution_count": 2,
   "id": "71b3b233",
   "metadata": {},
   "outputs": [],
   "source": [
    "def unwrap_fisheye(input_image_path, output_image_path):\n",
    "    # Read the fisheye image\n",
    "    fisheye_image = cv2.imread(input_image_path)\n",
    "\n",
    "    # Get image dimensions\n",
    "    height, width = fisheye_image.shape[:2]\n",
    "\n",
    "    # Define the fisheye camera parameters\n",
    "    K = np.array([[500, 0, width // 2],\n",
    "                  [0, 500, height // 2],\n",
    "                  [0, 0, 1]])\n",
    "    K = K.astype(np.float32)\n",
    "\n",
    "    # Create an empty distortion coefficients array\n",
    "    D = np.zeros((4, 1), dtype=np.float32)\n",
    "    fisheye_image = cv2.resize(fisheye_image, (200, 200))\n",
    "\n",
    "    # Undistort the fisheye image\n",
    "    undistorted_image = cv2.fisheye.undistortImage(fisheye_image, K, D)\n",
    "\n",
    "    # Display the original and undistorted images (optional)\n",
    "    cv2.imshow(\"Original Fisheye Image\", fisheye_image)\n",
    "    cv2.imshow(\"Undistorted Image\", undistorted_image)\n",
    "    cv2.waitKey(0)\n",
    "    cv2.destroyAllWindows()\n",
    "\n",
    "    # Save the undistorted image\n",
    "    cv2.imwrite(output_image_path, undistorted_image)\n",
    "\n"
   ]
  },
  {
   "cell_type": "code",
   "execution_count": null,
   "id": "9eca6cab",
   "metadata": {},
   "outputs": [],
   "source": [
    "\n",
    "input_image_path = \"Images/unwrapped_walgreens_left.jpeg\"\n",
    "output_image_path = \"Images/undistorted_image.jpg\"\n",
    "unwrap_fisheye(input_image_path, output_image_path)\n"
   ]
  },
  {
   "cell_type": "code",
   "execution_count": null,
   "id": "25ff3171",
   "metadata": {},
   "outputs": [],
   "source": []
  }
 ],
 "metadata": {
  "kernelspec": {
   "display_name": "Python 3 (ipykernel)",
   "language": "python",
   "name": "python3"
  },
  "language_info": {
   "codemirror_mode": {
    "name": "ipython",
    "version": 3
   },
   "file_extension": ".py",
   "mimetype": "text/x-python",
   "name": "python",
   "nbconvert_exporter": "python",
   "pygments_lexer": "ipython3",
   "version": "3.8.16"
  }
 },
 "nbformat": 4,
 "nbformat_minor": 5
}
